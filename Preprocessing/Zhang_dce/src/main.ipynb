{
 "cells": [
  {
   "cell_type": "code",
   "execution_count": null,
   "metadata": {},
   "outputs": [],
   "source": [
    "from Zhang import Zhang\n",
    "import helper as h\n",
    "\n",
    "dataset = 'adult' #compas, german\n",
    "Zhang(dataset) \n",
    "h.Adult(\"../results_Zhang_nondiscrimination/adult_train_repaired.csv\")\n",
    "\n",
    "dataset = 'compas' #compas, german\n",
    "Zhang(dataset) \n",
    "h.Compas(\"../results_Zhang_nondiscrimination/compas_train_repaired.csv\")\n",
    "\n",
    "dataset = 'german' #compas, german\n",
    "Zhang(dataset) \n",
    "h.German(\"../results_Zhang_nondiscrimination/german_train_repaired.csv\")"
   ]
  }
 ],
 "metadata": {
  "kernelspec": {
   "display_name": "Python 3",
   "language": "python",
   "name": "python3"
  },
  "language_info": {
   "codemirror_mode": {
    "name": "ipython",
    "version": 3
   },
   "file_extension": ".py",
   "mimetype": "text/x-python",
   "name": "python",
   "nbconvert_exporter": "python",
   "pygments_lexer": "ipython3",
   "version": "3.6.10"
  }
 },
 "nbformat": 4,
 "nbformat_minor": 4
}
