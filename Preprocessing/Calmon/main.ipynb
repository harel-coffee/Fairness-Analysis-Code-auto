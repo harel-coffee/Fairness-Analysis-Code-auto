{
 "cells": [
  {
   "cell_type": "code",
   "execution_count": null,
   "metadata": {},
   "outputs": [],
   "source": [
    "from Calmon import Calmon\n",
    "import helper as h\n",
    "\n",
    "dataset = 'adult'\n",
    "Calmon(dataset)\n",
    "h.Adult(\"results_Calmon/adult_train_repaired.csv\")\n",
    "\n",
    "dataset = 'compas'\n",
    "Calmon(dataset)\n",
    "h.Compas(\"results_Calmon/compas_train_repaired.csv\")\n",
    "\n",
    "dataset = 'german'\n",
    "Calmon(dataset)\n",
    "h.German(\"results_Calmon/german_train_repaired.csv\")"
   ]
  }
 ],
 "metadata": {
  "kernelspec": {
   "display_name": "Python 3",
   "language": "python",
   "name": "python3"
  },
  "language_info": {
   "codemirror_mode": {
    "name": "ipython",
    "version": 3
   },
   "file_extension": ".py",
   "mimetype": "text/x-python",
   "name": "python",
   "nbconvert_exporter": "python",
   "pygments_lexer": "ipython3",
   "version": "3.6.10"
  }
 },
 "nbformat": 4,
 "nbformat_minor": 4
}
