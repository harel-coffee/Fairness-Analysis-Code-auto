{
 "cells": [
  {
   "cell_type": "code",
   "execution_count": null,
   "metadata": {},
   "outputs": [],
   "source": [
    "from Feldman import Feldman\n",
    "import helper as h\n",
    "dataset = 'adult' #compas, german\n",
    "rep = 1.0 #repair level\n",
    "fname = None\n",
    "\n",
    "Feldman(dataset, rep, fname)\n",
    "h.Adult(\"results_Feldman/adult_train_repaired.csv\")\n",
    "\n",
    "dataset = 'compas' #compas, german\n",
    "rep = 1.0 #repair level\n",
    "fname = None\n",
    "\n",
    "Feldman(dataset, rep, fname)\n",
    "h.Compas(\"results_Feldman/compas_train_repaired.csv\")\n",
    "\n",
    "\n",
    "dataset = 'german' #compas, german\n",
    "rep = 1.0 #repair level\n",
    "fname = None\n",
    "\n",
    "Feldman(dataset, rep, fname)\n",
    "h.German(\"results_Feldman/german_train_repaired.csv\")\n",
    "\n"
   ]
  }
 ],
 "metadata": {
  "kernelspec": {
   "display_name": "Python 3",
   "language": "python",
   "name": "python3"
  },
  "language_info": {
   "codemirror_mode": {
    "name": "ipython",
    "version": 3
   },
   "file_extension": ".py",
   "mimetype": "text/x-python",
   "name": "python",
   "nbconvert_exporter": "python",
   "pygments_lexer": "ipython3",
   "version": "3.6.10"
  }
 },
 "nbformat": 4,
 "nbformat_minor": 4
}
