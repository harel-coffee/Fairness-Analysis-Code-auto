{
 "cells": [
  {
   "cell_type": "code",
   "execution_count": 1,
   "metadata": {},
   "outputs": [],
   "source": [
    "import pandas as pd\n",
    "import numpy as np\n",
    "import random\n",
    "from sklearn.impute import SimpleImputer\n",
    "from sklearn.model_selection import train_test_split\n",
    "from utils import bin_compas_data, binarize_compas_data"
   ]
  },
  {
   "cell_type": "code",
   "execution_count": 2,
   "metadata": {},
   "outputs": [],
   "source": [
    "#randomly selects indexes for injecting error\n",
    "#frac is the fraction of subpopulation selected \n",
    "#currently defined for Compas dataset, Blacks being the disadvantaged subpopulation\n",
    "\n",
    "def get_index(df, frac=0.7):\n",
    "    sub = df.index[df['Race'] == 'African-American'].tolist()  #& (df['race'] == 'Black') \n",
    "    index = random.sample(sub, int(frac*len(sub)))\n",
    "    total = set(np.arange(0, df.shape[0])) ^ set(sub)\n",
    "    index += random.sample(total, int((1-frac)*len(total)))\n",
    "    return index\n",
    "\n",
    "#swaps values between two columns at chosen indices\n",
    "def swap(df, col1, col2, index):\n",
    "    temp = df.iloc[index, df.columns.get_loc(col1)]\n",
    "    df.iloc[index, df.columns.get_loc(col1)] = df.iloc[index, df.columns.get_loc(col2)]\n",
    "    df.iloc[index, df.columns.get_loc(col2)] = temp\n",
    "    return df\n",
    "\n",
    "#randomly scales values in column at chosen indices\n",
    "def scale(df, col, index):\n",
    "    scale_factor = np.random.choice([10, 100, 1000])\n",
    "    df.iloc[index, df.columns.get_loc(col)] *= scale_factor\n",
    "    return df\n",
    "\n",
    "#corrupts column value with gaussian noise at chosen indices\n",
    "def corrupt(df, col, index):\n",
    "    stddev = np.std(df[col])\n",
    "    scale = random.uniform(1, 5)\n",
    "    noise = np.random.normal(0, scale * stddev, size=len(index))\n",
    "    df.iloc[index, df.columns.get_loc(col)] += noise\n",
    "    return df\n",
    "\n",
    "#drops values at chosen indices and uses a simple imputer\n",
    "def missing_val(df, col, index, attrib):\n",
    "    df.iloc[index, df.columns.get_loc(col)] = 1\n",
    "    \"\"\"\n",
    "    #impute the missing values\n",
    "    if (attrib == 'numeric'):\n",
    "        imp = SimpleImputer(missing_values=np.nan, strategy='mean')\n",
    "    else:\n",
    "        imp = SimpleImputer(missing_values=np.nan, strategy='most_frequent')\n",
    "    df[col] = pd.DataFrame(imp.fit_transform(df[[col]]))\"\"\"\n",
    "    return df\n",
    "    \n"
   ]
  }
 ],
 "metadata": {
  "kernelspec": {
   "display_name": "Python 3",
   "language": "python",
   "name": "python3"
  },
  "language_info": {
   "codemirror_mode": {
    "name": "ipython",
    "version": 3
   },
   "file_extension": ".py",
   "mimetype": "text/x-python",
   "name": "python",
   "nbconvert_exporter": "python",
   "pygments_lexer": "ipython3",
   "version": "3.6.9"
  }
 },
 "nbformat": 4,
 "nbformat_minor": 5
}
