{
 "cells": [
  {
   "cell_type": "markdown",
   "metadata": {},
   "source": [
    "# Getting started with DoWhy: A simple example\n",
    "This is a quick introduction to the DoWhy causal inference library.\n",
    "We will load in a sample dataset and estimate the causal effect of a (pre-specified)treatment variable on a (pre-specified) outcome variable.\n",
    "\n",
    "First, let us load all required packages."
   ]
  },
  {
   "cell_type": "code",
   "execution_count": 1,
   "metadata": {},
   "outputs": [],
   "source": [
    "import numpy as np\n",
    "import pandas as pd\n",
    "\n",
    "import dowhy\n",
    "from dowhy import CausalModel\n",
    "import dowhy.datasets \n",
    "\n",
    "# Avoid printing dataconversion warnings from sklearn\n",
    "import warnings\n",
    "from sklearn.exceptions import DataConversionWarning\n",
    "warnings.filterwarnings(action='ignore', category=DataConversionWarning)\n",
    "\n",
    "# Config dict to set the logging level\n",
    "import logging.config\n",
    "DEFAULT_LOGGING = {\n",
    "    'version': 1,\n",
    "    'disable_existing_loggers': False,\n",
    "    'loggers': {\n",
    "        '': {\n",
    "            'level': 'WARN',\n",
    "        },\n",
    "    }\n",
    "}\n",
    "\n",
    "logging.config.dictConfig(DEFAULT_LOGGING)"
   ]
  },
  {
   "cell_type": "markdown",
   "metadata": {},
   "source": [
    "Now, let us load a dataset. For simplicity, we simulate a dataset with linear relationships between common causes and treatment, and common causes and outcome. \n",
    "\n",
    "Beta is the true causal effect. "
   ]
  },
  {
   "cell_type": "code",
   "execution_count": 2,
   "metadata": {
    "scrolled": true
   },
   "outputs": [
    {
     "name": "stdout",
     "output_type": "stream",
     "text": [
      "         X0   Z0        Z1        W0        W1        W2        W3 W4    v0  \\\n",
      "0 -0.119434  0.0  0.610517  0.360747 -1.301787  1.177112  0.992263  2  True   \n",
      "1  1.227033  1.0  0.060819  0.530126 -0.182658  3.060546  0.892519  0  True   \n",
      "2  3.217984  0.0  0.973915 -0.769760 -0.607159  1.079276 -1.107614  0  True   \n",
      "3  1.067852  0.0  0.582752 -0.342469 -0.608328 -1.287410  0.976956  3  True   \n",
      "4  1.823178  1.0  0.650570 -0.889167  1.091130 -0.334163  1.716186  0  True   \n",
      "\n",
      "           y  \n",
      "0  13.019897  \n",
      "1  22.760496  \n",
      "2  16.350150  \n",
      "3  14.790487  \n",
      "4  22.477603  \n",
      "digraph { U[label=\"Unobserved Confounders\"]; U->y;v0->y;U->v0;W0-> v0; W1-> v0; W2-> v0; W3-> v0; W4-> v0;Z0-> v0; Z1-> v0;W0-> y; W1-> y; W2-> y; W3-> y; W4-> y;X0-> y;}\n",
      "\n",
      "\n",
      "graph[directed 1node[ id \"y\" label \"y\"]node[ id \"Unobserved Confounders\" label \"Unobserved Confounders\"]edge[source \"Unobserved Confounders\" target \"y\"]node[ id \"W0\" label \"W0\"] node[ id \"W1\" label \"W1\"] node[ id \"W2\" label \"W2\"] node[ id \"W3\" label \"W3\"] node[ id \"W4\" label \"W4\"]node[ id \"Z0\" label \"Z0\"] node[ id \"Z1\" label \"Z1\"]node[ id \"v0\" label \"v0\"]edge[source \"Unobserved Confounders\" target \"v0\"]edge[source \"v0\" target \"y\"]edge[ source \"W0\" target \"v0\"] edge[ source \"W1\" target \"v0\"] edge[ source \"W2\" target \"v0\"] edge[ source \"W3\" target \"v0\"] edge[ source \"W4\" target \"v0\"]edge[ source \"Z0\" target \"v0\"] edge[ source \"Z1\" target \"v0\"]edge[ source \"W0\" target \"y\"] edge[ source \"W1\" target \"y\"] edge[ source \"W2\" target \"y\"] edge[ source \"W3\" target \"y\"] edge[ source \"W4\" target \"y\"]node[ id \"X0\" label \"X0\"] edge[ source \"X0\" target \"y\"]]\n"
     ]
    }
   ],
   "source": [
    "data = dowhy.datasets.linear_dataset(beta=10,\n",
    "        num_common_causes=5,\n",
    "        num_instruments = 2,\n",
    "        num_effect_modifiers=1,\n",
    "        num_samples=20000, \n",
    "        treatment_is_binary=True,\n",
    "        num_discrete_common_causes=1)\n",
    "df = data[\"df\"]\n",
    "print(df.head())\n",
    "print(data[\"dot_graph\"])\n",
    "print(\"\\n\")\n",
    "print(data[\"gml_graph\"])"
   ]
  },
  {
   "cell_type": "code",
   "execution_count": 18,
   "metadata": {},
   "outputs": [
    {
     "data": {
      "text/html": [
       "<div>\n",
       "<style scoped>\n",
       "    .dataframe tbody tr th:only-of-type {\n",
       "        vertical-align: middle;\n",
       "    }\n",
       "\n",
       "    .dataframe tbody tr th {\n",
       "        vertical-align: top;\n",
       "    }\n",
       "\n",
       "    .dataframe thead th {\n",
       "        text-align: right;\n",
       "    }\n",
       "</style>\n",
       "<table border=\"1\" class=\"dataframe\">\n",
       "  <thead>\n",
       "    <tr style=\"text-align: right;\">\n",
       "      <th></th>\n",
       "      <th>X0</th>\n",
       "      <th>Z0</th>\n",
       "      <th>Z1</th>\n",
       "      <th>W0</th>\n",
       "      <th>W1</th>\n",
       "      <th>W2</th>\n",
       "      <th>W3</th>\n",
       "      <th>W4</th>\n",
       "      <th>v0</th>\n",
       "      <th>y</th>\n",
       "      <th>propensity_score</th>\n",
       "      <th>strata</th>\n",
       "      <th>dbar</th>\n",
       "      <th>d_y</th>\n",
       "      <th>dbar_y</th>\n",
       "    </tr>\n",
       "  </thead>\n",
       "  <tbody>\n",
       "    <tr>\n",
       "      <th>0</th>\n",
       "      <td>-0.119434</td>\n",
       "      <td>0.0</td>\n",
       "      <td>0.610517</td>\n",
       "      <td>0.360747</td>\n",
       "      <td>-1.301787</td>\n",
       "      <td>1.177112</td>\n",
       "      <td>0.992263</td>\n",
       "      <td>2</td>\n",
       "      <td>True</td>\n",
       "      <td>13.019897</td>\n",
       "      <td>0.995248</td>\n",
       "      <td>29.0</td>\n",
       "      <td>0</td>\n",
       "      <td>13.019897</td>\n",
       "      <td>0.0</td>\n",
       "    </tr>\n",
       "    <tr>\n",
       "      <th>1</th>\n",
       "      <td>1.227033</td>\n",
       "      <td>1.0</td>\n",
       "      <td>0.060819</td>\n",
       "      <td>0.530126</td>\n",
       "      <td>-0.182658</td>\n",
       "      <td>3.060546</td>\n",
       "      <td>0.892519</td>\n",
       "      <td>0</td>\n",
       "      <td>True</td>\n",
       "      <td>22.760496</td>\n",
       "      <td>0.998942</td>\n",
       "      <td>39.0</td>\n",
       "      <td>0</td>\n",
       "      <td>22.760496</td>\n",
       "      <td>0.0</td>\n",
       "    </tr>\n",
       "    <tr>\n",
       "      <th>2</th>\n",
       "      <td>3.217984</td>\n",
       "      <td>0.0</td>\n",
       "      <td>0.973915</td>\n",
       "      <td>-0.769760</td>\n",
       "      <td>-0.607159</td>\n",
       "      <td>1.079276</td>\n",
       "      <td>-1.107614</td>\n",
       "      <td>0</td>\n",
       "      <td>True</td>\n",
       "      <td>16.350150</td>\n",
       "      <td>0.861894</td>\n",
       "      <td>7.0</td>\n",
       "      <td>0</td>\n",
       "      <td>16.350150</td>\n",
       "      <td>0.0</td>\n",
       "    </tr>\n",
       "    <tr>\n",
       "      <th>3</th>\n",
       "      <td>1.067852</td>\n",
       "      <td>0.0</td>\n",
       "      <td>0.582752</td>\n",
       "      <td>-0.342469</td>\n",
       "      <td>-0.608328</td>\n",
       "      <td>-1.287410</td>\n",
       "      <td>0.976956</td>\n",
       "      <td>3</td>\n",
       "      <td>True</td>\n",
       "      <td>14.790487</td>\n",
       "      <td>0.976880</td>\n",
       "      <td>17.0</td>\n",
       "      <td>0</td>\n",
       "      <td>14.790487</td>\n",
       "      <td>0.0</td>\n",
       "    </tr>\n",
       "    <tr>\n",
       "      <th>4</th>\n",
       "      <td>1.823178</td>\n",
       "      <td>1.0</td>\n",
       "      <td>0.650570</td>\n",
       "      <td>-0.889167</td>\n",
       "      <td>1.091130</td>\n",
       "      <td>-0.334163</td>\n",
       "      <td>1.716186</td>\n",
       "      <td>0</td>\n",
       "      <td>True</td>\n",
       "      <td>22.477603</td>\n",
       "      <td>0.964112</td>\n",
       "      <td>14.0</td>\n",
       "      <td>0</td>\n",
       "      <td>22.477603</td>\n",
       "      <td>0.0</td>\n",
       "    </tr>\n",
       "    <tr>\n",
       "      <th>...</th>\n",
       "      <td>...</td>\n",
       "      <td>...</td>\n",
       "      <td>...</td>\n",
       "      <td>...</td>\n",
       "      <td>...</td>\n",
       "      <td>...</td>\n",
       "      <td>...</td>\n",
       "      <td>...</td>\n",
       "      <td>...</td>\n",
       "      <td>...</td>\n",
       "      <td>...</td>\n",
       "      <td>...</td>\n",
       "      <td>...</td>\n",
       "      <td>...</td>\n",
       "      <td>...</td>\n",
       "    </tr>\n",
       "    <tr>\n",
       "      <th>19995</th>\n",
       "      <td>-0.010779</td>\n",
       "      <td>0.0</td>\n",
       "      <td>0.719221</td>\n",
       "      <td>-0.573581</td>\n",
       "      <td>-0.154512</td>\n",
       "      <td>-1.680311</td>\n",
       "      <td>-0.016755</td>\n",
       "      <td>2</td>\n",
       "      <td>True</td>\n",
       "      <td>7.359310</td>\n",
       "      <td>0.923428</td>\n",
       "      <td>10.0</td>\n",
       "      <td>0</td>\n",
       "      <td>7.359310</td>\n",
       "      <td>0.0</td>\n",
       "    </tr>\n",
       "    <tr>\n",
       "      <th>19996</th>\n",
       "      <td>0.726049</td>\n",
       "      <td>0.0</td>\n",
       "      <td>0.533595</td>\n",
       "      <td>0.321504</td>\n",
       "      <td>-0.546159</td>\n",
       "      <td>-0.415960</td>\n",
       "      <td>0.382982</td>\n",
       "      <td>0</td>\n",
       "      <td>True</td>\n",
       "      <td>11.871691</td>\n",
       "      <td>0.917243</td>\n",
       "      <td>9.0</td>\n",
       "      <td>0</td>\n",
       "      <td>11.871691</td>\n",
       "      <td>0.0</td>\n",
       "    </tr>\n",
       "    <tr>\n",
       "      <th>19997</th>\n",
       "      <td>0.157215</td>\n",
       "      <td>0.0</td>\n",
       "      <td>0.339548</td>\n",
       "      <td>1.860097</td>\n",
       "      <td>1.417669</td>\n",
       "      <td>-0.472603</td>\n",
       "      <td>0.633138</td>\n",
       "      <td>3</td>\n",
       "      <td>True</td>\n",
       "      <td>23.748984</td>\n",
       "      <td>0.999979</td>\n",
       "      <td>49.0</td>\n",
       "      <td>0</td>\n",
       "      <td>23.748984</td>\n",
       "      <td>0.0</td>\n",
       "    </tr>\n",
       "    <tr>\n",
       "      <th>19998</th>\n",
       "      <td>1.248974</td>\n",
       "      <td>1.0</td>\n",
       "      <td>0.966467</td>\n",
       "      <td>-1.018494</td>\n",
       "      <td>0.042078</td>\n",
       "      <td>0.972270</td>\n",
       "      <td>0.691898</td>\n",
       "      <td>0</td>\n",
       "      <td>True</td>\n",
       "      <td>15.930571</td>\n",
       "      <td>0.935521</td>\n",
       "      <td>11.0</td>\n",
       "      <td>0</td>\n",
       "      <td>15.930571</td>\n",
       "      <td>0.0</td>\n",
       "    </tr>\n",
       "    <tr>\n",
       "      <th>19999</th>\n",
       "      <td>0.894527</td>\n",
       "      <td>1.0</td>\n",
       "      <td>0.899369</td>\n",
       "      <td>-1.451284</td>\n",
       "      <td>0.150374</td>\n",
       "      <td>1.303363</td>\n",
       "      <td>0.081520</td>\n",
       "      <td>2</td>\n",
       "      <td>True</td>\n",
       "      <td>15.005703</td>\n",
       "      <td>0.990160</td>\n",
       "      <td>24.0</td>\n",
       "      <td>0</td>\n",
       "      <td>15.005703</td>\n",
       "      <td>0.0</td>\n",
       "    </tr>\n",
       "  </tbody>\n",
       "</table>\n",
       "<p>20000 rows × 15 columns</p>\n",
       "</div>"
      ],
      "text/plain": [
       "             X0   Z0        Z1        W0        W1        W2        W3 W4  \\\n",
       "0     -0.119434  0.0  0.610517  0.360747 -1.301787  1.177112  0.992263  2   \n",
       "1      1.227033  1.0  0.060819  0.530126 -0.182658  3.060546  0.892519  0   \n",
       "2      3.217984  0.0  0.973915 -0.769760 -0.607159  1.079276 -1.107614  0   \n",
       "3      1.067852  0.0  0.582752 -0.342469 -0.608328 -1.287410  0.976956  3   \n",
       "4      1.823178  1.0  0.650570 -0.889167  1.091130 -0.334163  1.716186  0   \n",
       "...         ...  ...       ...       ...       ...       ...       ... ..   \n",
       "19995 -0.010779  0.0  0.719221 -0.573581 -0.154512 -1.680311 -0.016755  2   \n",
       "19996  0.726049  0.0  0.533595  0.321504 -0.546159 -0.415960  0.382982  0   \n",
       "19997  0.157215  0.0  0.339548  1.860097  1.417669 -0.472603  0.633138  3   \n",
       "19998  1.248974  1.0  0.966467 -1.018494  0.042078  0.972270  0.691898  0   \n",
       "19999  0.894527  1.0  0.899369 -1.451284  0.150374  1.303363  0.081520  2   \n",
       "\n",
       "         v0          y  propensity_score  strata  dbar        d_y  dbar_y  \n",
       "0      True  13.019897          0.995248    29.0     0  13.019897     0.0  \n",
       "1      True  22.760496          0.998942    39.0     0  22.760496     0.0  \n",
       "2      True  16.350150          0.861894     7.0     0  16.350150     0.0  \n",
       "3      True  14.790487          0.976880    17.0     0  14.790487     0.0  \n",
       "4      True  22.477603          0.964112    14.0     0  22.477603     0.0  \n",
       "...     ...        ...               ...     ...   ...        ...     ...  \n",
       "19995  True   7.359310          0.923428    10.0     0   7.359310     0.0  \n",
       "19996  True  11.871691          0.917243     9.0     0  11.871691     0.0  \n",
       "19997  True  23.748984          0.999979    49.0     0  23.748984     0.0  \n",
       "19998  True  15.930571          0.935521    11.0     0  15.930571     0.0  \n",
       "19999  True  15.005703          0.990160    24.0     0  15.005703     0.0  \n",
       "\n",
       "[20000 rows x 15 columns]"
      ]
     },
     "execution_count": 18,
     "metadata": {},
     "output_type": "execute_result"
    }
   ],
   "source": [
    "data['df']"
   ]
  },
  {
   "cell_type": "markdown",
   "metadata": {},
   "source": [
    "Note that we are using a pandas dataframe to load the data. At present, DoWhy only supports pandas dataframe as input."
   ]
  },
  {
   "cell_type": "markdown",
   "metadata": {},
   "source": [
    "## Interface 1 (recommended): Input causal graph"
   ]
  },
  {
   "cell_type": "markdown",
   "metadata": {},
   "source": [
    "We now input a causal graph in the GML graph format (recommended). You can also use the DOT format.\n",
    "\n",
    "To create the causal graph for your dataset, you can use a tool like [DAGitty](http://dagitty.net/dags.html#) that provides a GUI to construct the graph. You can export the graph string that it generates. The graph string is very close to the DOT format: just rename `dag` to `digraph`, remove newlines and add a semicolon after every line, to convert it to the DOT format and input to DoWhy. "
   ]
  },
  {
   "cell_type": "code",
   "execution_count": 3,
   "metadata": {},
   "outputs": [],
   "source": [
    "# With graph\n",
    "model=CausalModel(\n",
    "        data = df,\n",
    "        treatment=data[\"treatment_name\"],\n",
    "        outcome=data[\"outcome_name\"],\n",
    "        graph=data[\"gml_graph\"]\n",
    "        )"
   ]
  },
  {
   "cell_type": "code",
   "execution_count": 17,
   "metadata": {},
   "outputs": [
    {
     "data": {
      "text/plain": [
       "['v0']"
      ]
     },
     "execution_count": 17,
     "metadata": {},
     "output_type": "execute_result"
    }
   ],
   "source": [
    "data[\"treatment_name\"]"
   ]
  },
  {
   "cell_type": "markdown",
   "metadata": {},
   "source": [
    "The above causal graph shows the assumptions encoded in the causal model. We can now use this graph to first identify \n",
    "the causal effect (go from a causal estimand to a probability expression), and then estimate the causal effect."
   ]
  },
  {
   "cell_type": "markdown",
   "metadata": {},
   "source": [
    "**DoWhy philosophy: Keep identification and estimation separate**\n",
    "\n",
    "Identification can be achieved without access to the data, acccesing only the graph. This results in an expression to be computed. This expression can then be evaluated using the available data in the estimation step.\n",
    "It is important to understand that these are orthogonal steps.\n",
    "\n",
    "* Identification"
   ]
  },
  {
   "cell_type": "code",
   "execution_count": 10,
   "metadata": {},
   "outputs": [
    {
     "name": "stdout",
     "output_type": "stream",
     "text": [
      "Estimand type: nonparametric-ate\n",
      "\n",
      "### Estimand : 1\n",
      "Estimand name: backdoor\n",
      "Estimand expression:\n",
      "  d                                    \n",
      "─────(Expectation(y|W1,W2,W0,W3,W4,X0))\n",
      "d[v₀]                                  \n",
      "Estimand assumption 1, Unconfoundedness: If U→{v0} and U→y then P(y|v0,W1,W2,W0,W3,W4,X0,U) = P(y|v0,W1,W2,W0,W3,W4,X0)\n",
      "\n",
      "### Estimand : 2\n",
      "Estimand name: iv\n",
      "Estimand expression:\n",
      "Expectation(Derivative(y, [Z1, Z0])*Derivative([v0], [Z1, Z0])**(-1))\n",
      "Estimand assumption 1, As-if-random: If U→→y then ¬(U →→{Z1,Z0})\n",
      "Estimand assumption 2, Exclusion: If we remove {Z1,Z0}→{v0}, then ¬({Z1,Z0}→y)\n",
      "\n",
      "### Estimand : 3\n",
      "Estimand name: frontdoor\n",
      "No such variable found!\n",
      "\n"
     ]
    }
   ],
   "source": [
    "identified_estimand = model.identify_effect(proceed_when_unidentifiable=True)\n",
    "print(identified_estimand)"
   ]
  },
  {
   "cell_type": "markdown",
   "metadata": {},
   "source": [
    "Note the parameter flag *proceed\\_when\\_unidentifiable*. It needs to be set to *True* to convey the assumption that we are ignoring any unobserved confounding. The default behavior is to prompt the user to double-check that the unobserved confounders can be ignored. "
   ]
  },
  {
   "cell_type": "markdown",
   "metadata": {},
   "source": [
    "* Estimation"
   ]
  },
  {
   "cell_type": "code",
   "execution_count": 11,
   "metadata": {
    "scrolled": true
   },
   "outputs": [
    {
     "name": "stdout",
     "output_type": "stream",
     "text": [
      "*** Causal Estimate ***\n",
      "\n",
      "## Identified estimand\n",
      "Estimand type: nonparametric-ate\n",
      "\n",
      "### Estimand : 1\n",
      "Estimand name: backdoor\n",
      "Estimand expression:\n",
      "  d                                    \n",
      "─────(Expectation(y|W1,W2,W0,W3,W4,X0))\n",
      "d[v₀]                                  \n",
      "Estimand assumption 1, Unconfoundedness: If U→{v0} and U→y then P(y|v0,W1,W2,W0,W3,W4,X0,U) = P(y|v0,W1,W2,W0,W3,W4,X0)\n",
      "\n",
      "## Realized estimand\n",
      "b: y~v0+W1+W2+W0+W3+W4+X0\n",
      "Target units: ate\n",
      "\n",
      "## Estimate\n",
      "Mean value: 12.22245148106945\n",
      "\n",
      "Causal Estimate is 12.22245148106945\n"
     ]
    }
   ],
   "source": [
    "causal_estimate = model.estimate_effect(identified_estimand,\n",
    "        method_name=\"backdoor.propensity_score_stratification\")\n",
    "print(causal_estimate)\n",
    "print(\"Causal Estimate is \" + str(causal_estimate.value))"
   ]
  },
  {
   "cell_type": "markdown",
   "metadata": {},
   "source": [
    "You can input additional parameters to the estimate_effect method. For instance, to estimate the effect on any subset of the units, you can specify the \"target_units\" parameter which can be a string (\"ate\", \"att\", or \"atc\"), lambda function that filters rows of the data frame, or a new dataframe on which to compute the effect. You can also specify \"effect modifiers\" to estimate heterogeneous effects across these variables. See `help(CausalModel.estimate_effect)`. "
   ]
  },
  {
   "cell_type": "code",
   "execution_count": 12,
   "metadata": {},
   "outputs": [
    {
     "name": "stdout",
     "output_type": "stream",
     "text": [
      "*** Causal Estimate ***\n",
      "\n",
      "## Identified estimand\n",
      "Estimand type: nonparametric-ate\n",
      "\n",
      "### Estimand : 1\n",
      "Estimand name: backdoor\n",
      "Estimand expression:\n",
      "  d                                    \n",
      "─────(Expectation(y|W1,W2,W0,W3,W4,X0))\n",
      "d[v₀]                                  \n",
      "Estimand assumption 1, Unconfoundedness: If U→{v0} and U→y then P(y|v0,W1,W2,W0,W3,W4,X0,U) = P(y|v0,W1,W2,W0,W3,W4,X0)\n",
      "\n",
      "## Realized estimand\n",
      "b: y~v0+W1+W2+W0+W3+W4+X0\n",
      "Target units: atc\n",
      "\n",
      "## Estimate\n",
      "Mean value: 12.085030088973811\n",
      "\n",
      "Causal Estimate is 12.085030088973811\n"
     ]
    }
   ],
   "source": [
    "# Causal effect on the control group (ATC)\n",
    "causal_estimate_att = model.estimate_effect(identified_estimand,\n",
    "        method_name=\"backdoor.propensity_score_stratification\",\n",
    "        target_units = \"atc\")\n",
    "print(causal_estimate_att)\n",
    "print(\"Causal Estimate is \" + str(causal_estimate_att.value))"
   ]
  },
  {
   "cell_type": "markdown",
   "metadata": {},
   "source": [
    "## Interface 2: Specify common causes and instruments"
   ]
  },
  {
   "cell_type": "code",
   "execution_count": 9,
   "metadata": {
    "scrolled": true
   },
   "outputs": [],
   "source": [
    "# Without graph                                       \n",
    "model= CausalModel(                             \n",
    "        data=df,                                      \n",
    "        treatment=data[\"treatment_name\"],             \n",
    "        outcome=data[\"outcome_name\"],                 \n",
    "        common_causes=data[\"common_causes_names\"],\n",
    "        effect_modifiers=data[\"effect_modifier_names\"])                         "
   ]
  },
  {
   "cell_type": "code",
   "execution_count": 10,
   "metadata": {},
   "outputs": [],
   "source": [
    "model.view_model()"
   ]
  },
  {
   "cell_type": "code",
   "execution_count": 11,
   "metadata": {},
   "outputs": [
    {
     "data": {
      "image/png": "[encoded data removed]",
      "text/plain": [
       "<IPython.core.display.Image object>"
      ]
     },
     "metadata": {},
     "output_type": "display_data"
    }
   ],
   "source": [
    "from IPython.display import Image, display\n",
    "display(Image(filename=\"causal_model.png\"))"
   ]
  },
  {
   "cell_type": "markdown",
   "metadata": {},
   "source": [
    "We get the same causal graph. Now identification and estimation is done as before."
   ]
  },
  {
   "cell_type": "code",
   "execution_count": 12,
   "metadata": {},
   "outputs": [],
   "source": [
    "identified_estimand = model.identify_effect(proceed_when_unidentifiable=True)                         "
   ]
  },
  {
   "cell_type": "markdown",
   "metadata": {},
   "source": [
    "* Estimation"
   ]
  },
  {
   "cell_type": "code",
   "execution_count": 13,
   "metadata": {},
   "outputs": [
    {
     "name": "stdout",
     "output_type": "stream",
     "text": [
      "*** Causal Estimate ***\n",
      "\n",
      "## Identified estimand\n",
      "Estimand type: nonparametric-ate\n",
      "\n",
      "### Estimand : 1\n",
      "Estimand name: backdoor\n",
      "Estimand expression:\n",
      "  d                                 \n",
      "─────(Expectation(y|W0,W3,W1,W2,W4))\n",
      "d[v₀]                               \n",
      "Estimand assumption 1, Unconfoundedness: If U→{v0} and U→y then P(y|v0,W0,W3,W1,W2,W4,U) = P(y|v0,W0,W3,W1,W2,W4)\n",
      "\n",
      "## Realized estimand\n",
      "b: y~v0+W0+W3+W1+W2+W4\n",
      "Target units: ate\n",
      "\n",
      "## Estimate\n",
      "Mean value: 9.60353896239299\n",
      "\n",
      "Causal Estimate is 9.60353896239299\n"
     ]
    }
   ],
   "source": [
    "estimate = model.estimate_effect(identified_estimand,\n",
    "                                 method_name=\"backdoor.propensity_score_stratification\")         \n",
    "print(estimate)\n",
    "print(\"Causal Estimate is \" + str(estimate.value))"
   ]
  },
  {
   "cell_type": "markdown",
   "metadata": {},
   "source": [
    "## Refuting the estimate\n",
    "\n",
    "Let us now look at ways of refuting the estimate obtained."
   ]
  },
  {
   "cell_type": "markdown",
   "metadata": {},
   "source": [
    "### Adding a random common cause variable"
   ]
  },
  {
   "cell_type": "code",
   "execution_count": 14,
   "metadata": {},
   "outputs": [
    {
     "name": "stdout",
     "output_type": "stream",
     "text": [
      "Refute: Add a Random Common Cause\n",
      "Estimated effect:9.60353896239299\n",
      "New effect:9.602995259163794\n",
      "\n"
     ]
    }
   ],
   "source": [
    "res_random=model.refute_estimate(identified_estimand, estimate, method_name=\"random_common_cause\")\n",
    "print(res_random)"
   ]
  },
  {
   "cell_type": "markdown",
   "metadata": {},
   "source": [
    "### Adding an unobserved common cause variable"
   ]
  },
  {
   "cell_type": "code",
   "execution_count": 15,
   "metadata": {},
   "outputs": [
    {
     "name": "stdout",
     "output_type": "stream",
     "text": [
      "Refute: Add an Unobserved Common Cause\n",
      "Estimated effect:9.60353896239299\n",
      "New effect:7.591550789699005\n",
      "\n"
     ]
    }
   ],
   "source": [
    "res_unobserved=model.refute_estimate(identified_estimand, estimate, method_name=\"add_unobserved_common_cause\",\n",
    "                                     confounders_effect_on_treatment=\"binary_flip\", confounders_effect_on_outcome=\"linear\",\n",
    "                                    effect_strength_on_treatment=0.01, effect_strength_on_outcome=0.02)\n",
    "print(res_unobserved)"
   ]
  },
  {
   "cell_type": "markdown",
   "metadata": {},
   "source": [
    "### Replacing treatment with a random (placebo) variable"
   ]
  },
  {
   "cell_type": "code",
   "execution_count": 16,
   "metadata": {},
   "outputs": [
    {
     "name": "stdout",
     "output_type": "stream",
     "text": [
      "Refute: Use a Placebo Treatment\n",
      "Estimated effect:9.60353896239299\n",
      "New effect:0.005166426876598622\n",
      "p value:0.47\n",
      "\n"
     ]
    }
   ],
   "source": [
    "res_placebo=model.refute_estimate(identified_estimand, estimate,\n",
    "        method_name=\"placebo_treatment_refuter\", placebo_type=\"permute\")\n",
    "print(res_placebo)"
   ]
  },
  {
   "cell_type": "markdown",
   "metadata": {},
   "source": [
    "### Removing a random subset of the data"
   ]
  },
  {
   "cell_type": "code",
   "execution_count": 17,
   "metadata": {},
   "outputs": [
    {
     "name": "stdout",
     "output_type": "stream",
     "text": [
      "Refute: Use a subset of data\n",
      "Estimated effect:9.60353896239299\n",
      "New effect:9.6152898407909\n",
      "p value:0.42\n",
      "\n"
     ]
    }
   ],
   "source": [
    "res_subset=model.refute_estimate(identified_estimand, estimate,\n",
    "        method_name=\"data_subset_refuter\", subset_fraction=0.9)\n",
    "print(res_subset)\n"
   ]
  },
  {
   "cell_type": "markdown",
   "metadata": {},
   "source": [
    "As you can see, the propensity score stratification estimator is reasonably robust to refutations.\n",
    "For reproducibility, you can add a parameter \"random_seed\" to any refutation method, as shown below."
   ]
  },
  {
   "cell_type": "code",
   "execution_count": 18,
   "metadata": {},
   "outputs": [
    {
     "name": "stdout",
     "output_type": "stream",
     "text": [
      "Refute: Use a subset of data\n",
      "Estimated effect:9.60353896239299\n",
      "New effect:9.618271557173077\n",
      "p value:0.33\n",
      "\n"
     ]
    }
   ],
   "source": [
    "res_subset=model.refute_estimate(identified_estimand, estimate,\n",
    "        method_name=\"data_subset_refuter\", subset_fraction=0.9, random_seed = 1)\n",
    "print(res_subset)"
   ]
  }
 ],
 "metadata": {
  "kernelspec": {
   "display_name": "Python 3",
   "language": "python",
   "name": "python3"
  },
  "language_info": {
   "codemirror_mode": {
    "name": "ipython",
    "version": 3
   },
   "file_extension": ".py",
   "mimetype": "text/x-python",
   "name": "python",
   "nbconvert_exporter": "python",
   "pygments_lexer": "ipython3",
   "version": "3.6.13"
  },
  "toc": {
   "base_numbering": 1,
   "nav_menu": {},
   "number_sections": false,
   "sideBar": true,
   "skip_h1_title": true,
   "title_cell": "Table of Contents",
   "title_sidebar": "Contents",
   "toc_cell": false,
   "toc_position": {},
   "toc_section_display": true,
   "toc_window_display": false
  }
 },
 "nbformat": 4,
 "nbformat_minor": 4
}
